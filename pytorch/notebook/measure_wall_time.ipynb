{
 "cells": [
  {
   "cell_type": "code",
   "execution_count": null,
   "id": "a2990c53-69be-41c5-b9f1-088347cc6b42",
   "metadata": {},
   "outputs": [],
   "source": [
    "%load_ext autoreload\n",
    "%autoreload 2\n",
    "%matplotlib inline"
   ]
  },
  {
   "cell_type": "code",
   "execution_count": null,
   "id": "dd075445-f824-424f-b633-8c187a1d3798",
   "metadata": {},
   "outputs": [],
   "source": [
    "import sys\n",
    "from logging import INFO, StreamHandler, getLogger\n",
    "\n",
    "logger = getLogger()\n",
    "if not any([\"StreamHandler\" in str(handler) for handler in logger.handlers]):\n",
    "    logger.addHandler(StreamHandler(sys.stdout))\n",
    "logger.setLevel(INFO)"
   ]
  },
  {
   "cell_type": "markdown",
   "id": "5163ded0-647e-4c4d-86b9-a76984e320b6",
   "metadata": {},
   "source": [
    "# Import libraries"
   ]
  },
  {
   "cell_type": "code",
   "execution_count": null,
   "id": "6a14519c-a202-413e-8b88-30c4bf826684",
   "metadata": {},
   "outputs": [],
   "source": [
    "import os\n",
    "import pathlib\n",
    "import time\n",
    "\n",
    "import numpy as np\n",
    "import pandas as pd\n",
    "import torch\n",
    "import torch.nn.functional as F\n",
    "import yaml\n",
    "from src.loss_maker import make_loss\n",
    "from src.model_maker import make_model\n",
    "from src.utils import set_seeds\n",
    "from tqdm.notebook import tqdm\n",
    "\n",
    "pd.set_option(\"display.max_columns\", 500)\n",
    "pd.set_option(\"display.max_rows\", 500)"
   ]
  },
  {
   "cell_type": "code",
   "execution_count": null,
   "id": "ed214acc-d832-4d3b-8ab5-0a02aaaf773a",
   "metadata": {},
   "outputs": [],
   "source": [
    "os.environ[\"CUBLAS_WORKSPACE_CONFIG\"] = r\":4096:8\"  # to make calculations deterministic\n",
    "set_seeds(42, use_deterministic=False)"
   ]
  },
  {
   "cell_type": "markdown",
   "id": "8dc35492-4b83-40c1-95e7-665a7bfa7154",
   "metadata": {},
   "source": [
    "# Define constants"
   ]
  },
  {
   "cell_type": "code",
   "execution_count": null,
   "id": "0a9f59c4-ab49-458a-84a4-e73e7aceb5fd",
   "metadata": {},
   "outputs": [],
   "source": [
    "ROOT_DIR = str((pathlib.Path(os.environ[\"PYTHONPATH\"]) / \"..\").resolve())"
   ]
  },
  {
   "cell_type": "code",
   "execution_count": null,
   "id": "e3e27b41-99ae-4152-a501-f97f552bb425",
   "metadata": {},
   "outputs": [],
   "source": [
    "path = f\"{ROOT_DIR}/pytorch/config/default.yml\"\n",
    "with open(path) as file:\n",
    "    CONFIG = yaml.safe_load(file)"
   ]
  },
  {
   "cell_type": "code",
   "execution_count": null,
   "id": "3b3c281d-bb4b-4517-bf8f-5277993b4f20",
   "metadata": {},
   "outputs": [],
   "source": [
    "DEVICE = \"cuda\""
   ]
  },
  {
   "cell_type": "code",
   "execution_count": null,
   "id": "b26ab294-a8cd-40ac-89cf-01d5593fc4e3",
   "metadata": {},
   "outputs": [],
   "source": [
    "# tensor size for testing\n",
    "UPSCALE_FACTOR = 4\n",
    "BATCH_SIZE_FOR_TEST = 1\n",
    "BATCH_SIZE_FOR_TRAIN = 1\n",
    "NUM_CHANNELS = 4\n",
    "NUM_Z = 32\n",
    "NUM_Y_FOR_TEST = 320\n",
    "NUM_X_FOR_TEST = 320\n",
    "NUM_Y_FOR_TRAIN = 320\n",
    "NUM_X_FOR_TRAIN = 320"
   ]
  },
  {
   "cell_type": "markdown",
   "id": "1778cab0-d195-48d9-9911-808424f3bd30",
   "metadata": {
    "tags": []
   },
   "source": [
    "# Measure wall time to test"
   ]
  },
  {
   "cell_type": "code",
   "execution_count": null,
   "id": "f32df0e2-c99a-4300-a3e2-e3e42231ec59",
   "metadata": {},
   "outputs": [],
   "source": [
    "model = make_model(CONFIG).to(DEVICE)\n",
    "_ = model.eval()"
   ]
  },
  {
   "cell_type": "code",
   "execution_count": null,
   "id": "cd6add50-234d-49a9-96cc-d2efa1f4619b",
   "metadata": {},
   "outputs": [],
   "source": [
    "num_batches = 100  # arbitrary number\n",
    "wall_times = []\n",
    "\n",
    "for _ in tqdm(range(num_batches)):\n",
    "    Xs = torch.randn(\n",
    "        (\n",
    "            BATCH_SIZE_FOR_TEST,\n",
    "            NUM_CHANNELS,\n",
    "            NUM_Z // UPSCALE_FACTOR,\n",
    "            NUM_Y_FOR_TEST // UPSCALE_FACTOR,\n",
    "            NUM_X_FOR_TEST // UPSCALE_FACTOR,\n",
    "        ),\n",
    "        device=DEVICE,\n",
    "        dtype=torch.float32,\n",
    "    )\n",
    "    bs = torch.randn(\n",
    "        (BATCH_SIZE_FOR_TEST, 1, NUM_Z, NUM_Y_FOR_TEST, NUM_X_FOR_TEST),\n",
    "        device=DEVICE,\n",
    "        dtype=torch.float32,\n",
    "    )\n",
    "    # building data has one channel\n",
    "\n",
    "    start = time.time()\n",
    "    with torch.no_grad():\n",
    "        preds = model(Xs, bs)\n",
    "    end = time.time()\n",
    "\n",
    "    wall_times.append(end - start)"
   ]
  },
  {
   "cell_type": "code",
   "execution_count": null,
   "id": "e82173ea-0c3c-401f-813c-3814c51e1c03",
   "metadata": {},
   "outputs": [],
   "source": [
    "np.sum(wall_times)  # seconds"
   ]
  },
  {
   "cell_type": "markdown",
   "id": "7ee96707-ee67-49c9-9d30-dda17a3e4f0f",
   "metadata": {},
   "source": [
    "# Measure wall time to train"
   ]
  },
  {
   "cell_type": "code",
   "execution_count": null,
   "id": "ae373903-f10c-4ba2-a31f-9d609f8456dc",
   "metadata": {},
   "outputs": [],
   "source": [
    "model = make_model(CONFIG).to(DEVICE)\n",
    "_ = model.train()"
   ]
  },
  {
   "cell_type": "code",
   "execution_count": null,
   "id": "32a09aeb-4185-4205-bc4d-eb861bda2b92",
   "metadata": {},
   "outputs": [],
   "source": [
    "loss_fn = make_loss(CONFIG)\n",
    "optimizer = torch.optim.Adam(model.parameters(), lr=CONFIG[\"train\"][\"lr\"])"
   ]
  },
  {
   "cell_type": "code",
   "execution_count": null,
   "id": "d931f311-61bd-4905-a76b-488d080fb43c",
   "metadata": {},
   "outputs": [],
   "source": [
    "num_batches = 100  # arbitrary number\n",
    "wall_times = []\n",
    "\n",
    "for _ in tqdm(range(num_batches)):\n",
    "    ys = torch.randn(\n",
    "        (\n",
    "            BATCH_SIZE_FOR_TRAIN,\n",
    "            NUM_CHANNELS,\n",
    "            NUM_Z,\n",
    "            NUM_Y_FOR_TRAIN,\n",
    "            NUM_X_FOR_TRAIN,\n",
    "        ),\n",
    "        device=DEVICE,\n",
    "        dtype=torch.float32,\n",
    "    )\n",
    "    Xs = torch.randn(\n",
    "        (\n",
    "            BATCH_SIZE_FOR_TRAIN,\n",
    "            NUM_CHANNELS,\n",
    "            NUM_Z // UPSCALE_FACTOR,\n",
    "            NUM_Y_FOR_TRAIN // UPSCALE_FACTOR,\n",
    "            NUM_X_FOR_TRAIN // UPSCALE_FACTOR,\n",
    "        ),\n",
    "        device=DEVICE,\n",
    "        dtype=torch.float32,\n",
    "    )\n",
    "    bs = torch.randn(\n",
    "        (BATCH_SIZE_FOR_TRAIN, 1, NUM_Z, NUM_Y_FOR_TRAIN, NUM_X_FOR_TRAIN),\n",
    "        device=DEVICE,\n",
    "        dtype=torch.float32,\n",
    "    )\n",
    "    # building data has one channel\n",
    "\n",
    "    start = time.time()\n",
    "\n",
    "    preds = model(Xs, bs)\n",
    "    loss = loss_fn(preds, ys, bs)\n",
    "\n",
    "    optimizer.zero_grad()\n",
    "    loss.backward()\n",
    "    optimizer.step()\n",
    "\n",
    "    end = time.time()\n",
    "\n",
    "    wall_times.append(end - start)"
   ]
  },
  {
   "cell_type": "code",
   "execution_count": null,
   "id": "4350b913-f25c-4906-a9e8-f8b872ad7fb3",
   "metadata": {},
   "outputs": [],
   "source": [
    "np.sum(wall_times)  # seconds"
   ]
  }
 ],
 "metadata": {
  "kernelspec": {
   "display_name": "Python 3 (ipykernel)",
   "language": "python",
   "name": "python3"
  },
  "language_info": {
   "codemirror_mode": {
    "name": "ipython",
    "version": 3
   },
   "file_extension": ".py",
   "mimetype": "text/x-python",
   "name": "python",
   "nbconvert_exporter": "python",
   "pygments_lexer": "ipython3",
   "version": "3.8.12"
  }
 },
 "nbformat": 4,
 "nbformat_minor": 5
}
