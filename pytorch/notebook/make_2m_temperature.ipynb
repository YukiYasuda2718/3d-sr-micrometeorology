{
 "cells": [
  {
   "cell_type": "code",
   "execution_count": null,
   "id": "b3cadc4b-e234-48fd-9c57-13de42a9e20e",
   "metadata": {},
   "outputs": [],
   "source": [
    "%load_ext autoreload\n",
    "%autoreload 2\n",
    "%matplotlib inline"
   ]
  },
  {
   "cell_type": "code",
   "execution_count": null,
   "id": "3f9d81ac-f0a3-4b37-9002-c75e7f1802a6",
   "metadata": {},
   "outputs": [],
   "source": [
    "import sys\n",
    "from logging import INFO, WARNING, StreamHandler, getLogger\n",
    "\n",
    "logger = getLogger()\n",
    "if not logger.hasHandlers():\n",
    "    logger.addHandler(StreamHandler(sys.stdout))\n",
    "logger.setLevel(INFO)"
   ]
  },
  {
   "cell_type": "markdown",
   "id": "6a47e5da-c402-4fbd-b1c0-9b9c59238af2",
   "metadata": {},
   "source": [
    "# Import libraries"
   ]
  },
  {
   "cell_type": "code",
   "execution_count": null,
   "id": "de44adab-578d-49e9-b1f1-f257d8ab061c",
   "metadata": {},
   "outputs": [],
   "source": [
    "import copy\n",
    "import datetime\n",
    "import gc\n",
    "import glob\n",
    "import os\n",
    "import pathlib\n",
    "from collections import OrderedDict\n",
    "\n",
    "import matplotlib.pyplot as plt\n",
    "import numpy as np\n",
    "import pandas as pd\n",
    "import torch\n",
    "import torch.nn.functional as F\n",
    "import yaml\n",
    "from numpy.testing import assert_array_equal\n",
    "from src.utils import read_pickle, set_seeds, write_pickle\n",
    "from tqdm.notebook import tqdm\n",
    "\n",
    "pd.set_option(\"display.max_columns\", 500)\n",
    "pd.set_option(\"display.max_rows\", 500)"
   ]
  },
  {
   "cell_type": "markdown",
   "id": "9ea2c40e-5498-4157-87d9-80afbe936625",
   "metadata": {},
   "source": [
    "# Define constants"
   ]
  },
  {
   "cell_type": "code",
   "execution_count": null,
   "id": "dd55d660-1768-4c2d-ad60-cbdf132abce8",
   "metadata": {},
   "outputs": [],
   "source": [
    "ROOT_DIR = str((pathlib.Path(os.environ[\"PYTHONPATH\"]) / \"..\").resolve())\n",
    "DL_DATA_DIR = pathlib.Path(f\"{ROOT_DIR}/data/DL_data\")\n",
    "DL_INFERENCE_DIR = pathlib.Path(f\"{ROOT_DIR}/data/DL_inferences\")\n",
    "EXPERIMENT_NAME = \"unet_model\""
   ]
  },
  {
   "cell_type": "code",
   "execution_count": null,
   "id": "76854328-3db3-46cb-a001-8ff7f919eddf",
   "metadata": {},
   "outputs": [],
   "source": [
    "DATA_DIR = \"./data\"\n",
    "os.makedirs(DATA_DIR, exist_ok=True)"
   ]
  },
  {
   "cell_type": "code",
   "execution_count": null,
   "id": "8446a4e1-dab9-460a-98f9-fb5d49c33d14",
   "metadata": {},
   "outputs": [],
   "source": [
    "CONFIG_PATHS = sorted(glob.glob(f\"{ROOT_DIR}/pytorch/config/*.yml\"))"
   ]
  },
  {
   "cell_type": "code",
   "execution_count": null,
   "id": "48323022-e174-4fce-88ad-39865b18b6bc",
   "metadata": {},
   "outputs": [],
   "source": [
    "HR_BUILDING_HEIGHT_PATH = f\"{ROOT_DIR}/datascience/script/EleTopoZ_HR.txt\"\n",
    "LR_BUILDING_HEIGHT_PATH = f\"{ROOT_DIR}/datascience/script/EleTopoZ_LR.txt\""
   ]
  },
  {
   "cell_type": "code",
   "execution_count": null,
   "id": "1134bf88-9037-4e77-9379-dce4792d5abb",
   "metadata": {},
   "outputs": [],
   "source": [
    "CONFIGS = OrderedDict()\n",
    "\n",
    "for config_path in CONFIG_PATHS:\n",
    "    if \"tutorial\" in config_path:\n",
    "        continue\n",
    "    with open(config_path) as file:\n",
    "        config = yaml.safe_load(file)\n",
    "\n",
    "    config_name = os.path.basename(config_path).split(\".\")[0]\n",
    "    assert config_name not in CONFIGS\n",
    "\n",
    "    _dir = f\"{ROOT_DIR}/data/DL_results/{EXPERIMENT_NAME}/{config_name}\"\n",
    "\n",
    "    CONFIGS[config_name] = {\n",
    "        \"config\": config,\n",
    "        \"model_name\": config[\"model\"][\"model_name\"],\n",
    "        \"experiment_name\": EXPERIMENT_NAME,\n",
    "        \"weight_path\": f\"{_dir}/weights.pth\",\n",
    "        \"learning_history_path\": f\"{_dir}/learning_history.csv\",\n",
    "    }"
   ]
  },
  {
   "cell_type": "code",
   "execution_count": null,
   "id": "fd6b913f-24a8-4e5f-9e5c-adfee0045251",
   "metadata": {},
   "outputs": [],
   "source": [
    "HEIGHT_LEVELS = np.arange(32) * 5 + 17.5  # meters\n",
    "HEIGHT_LEVELS"
   ]
  },
  {
   "cell_type": "markdown",
   "id": "ff8119aa-7bcc-4bdf-a6d7-cac6061ba1f4",
   "metadata": {},
   "source": [
    "# Define methods"
   ]
  },
  {
   "cell_type": "code",
   "execution_count": null,
   "id": "235f621d-20c9-47ed-aed7-bc475822be51",
   "metadata": {},
   "outputs": [],
   "source": [
    "def read_building_height(\n",
    "    building_path: str, target_col: str, margin: int = 0\n",
    ") -> np.ndarray:\n",
    "\n",
    "    with open(building_path, \"r\") as file:\n",
    "        lines = file.readlines()\n",
    "\n",
    "    cols = [\"i\", \"j\", \"Ez\", \"Tz\", \"Tzl\"]\n",
    "    _dict = {}\n",
    "    for i, line in enumerate(lines[1:]):  # skip header\n",
    "        splits = list(\n",
    "            map(lambda s: s.strip(), filter(lambda s: s != \"\", line.split(\" \")))\n",
    "        )\n",
    "        _dict[i] = {k: v for k, v in zip(cols, splits)}\n",
    "\n",
    "    df_topography = pd.DataFrame.from_dict(_dict).T\n",
    "\n",
    "    for col in cols:\n",
    "        if col == \"i\" or col == \"j\":\n",
    "            df_topography[col] = df_topography[col].astype(int)\n",
    "        else:\n",
    "            df_topography[col] = df_topography[col].astype(float)\n",
    "\n",
    "    ret = pd.pivot_table(\n",
    "        data=df_topography[[\"i\", \"j\", target_col]],\n",
    "        values=target_col,\n",
    "        index=\"i\",\n",
    "        columns=\"j\",\n",
    "        aggfunc=\"max\",\n",
    "    ).values\n",
    "\n",
    "    if margin == 0:\n",
    "        return ret\n",
    "    else:\n",
    "        return ret[margin:-margin, margin:-margin]\n",
    "\n",
    "\n",
    "def infer_2m_height_temperature(tempearture: np.ndarray, building: np.ndarray):\n",
    "    assert tempearture.ndim == 4  # batch, z, x, y dims\n",
    "    assert building.ndim == 2  # x and y dims\n",
    "    assert building.shape == tempearture.shape[2:]\n",
    "    assert tempearture.shape[1] == len(HEIGHT_LEVELS)\n",
    "\n",
    "    temperature_2m = np.full(\n",
    "        shape=(tempearture.shape[0],) + building.shape,\n",
    "        fill_value=np.nan,\n",
    "        dtype=np.float32,\n",
    "    )\n",
    "\n",
    "    for i in tqdm(range(building.shape[0])):\n",
    "        for j in range(building.shape[1]):\n",
    "            b = building[i, j]\n",
    "\n",
    "            if b > HEIGHT_LEVELS[-1]:\n",
    "                continue\n",
    "\n",
    "            # Get the first index above the building height\n",
    "            first_id = 0\n",
    "            if b > HEIGHT_LEVELS[0]:\n",
    "                first_id = np.where(HEIGHT_LEVELS >= b)[0][0]\n",
    "                assert HEIGHT_LEVELS[first_id - 1] < b <= HEIGHT_LEVELS[first_id]\n",
    "\n",
    "            second_id = first_id + 1\n",
    "            if second_id >= len(HEIGHT_LEVELS):\n",
    "                t = tempearture[:, first_id, i, j]\n",
    "            else:\n",
    "                t1 = tempearture[:, first_id, i, j]\n",
    "                t2 = tempearture[:, second_id, i, j]\n",
    "                h1 = HEIGHT_LEVELS[first_id]\n",
    "                h2 = HEIGHT_LEVELS[second_id]\n",
    "\n",
    "                # linear extrapolation\n",
    "                t = t1 + (b - h1) * (t2 - t1) / (h2 - h1)\n",
    "\n",
    "            temperature_2m[:, i, j] = t\n",
    "    return temperature_2m"
   ]
  },
  {
   "cell_type": "markdown",
   "id": "74bb0fe3-02ab-424a-b697-2d86a1e22b63",
   "metadata": {},
   "source": [
    "# Read building height data"
   ]
  },
  {
   "cell_type": "code",
   "execution_count": null,
   "id": "f9c4eb1c-5611-4f66-9849-9916ddd36032",
   "metadata": {},
   "outputs": [],
   "source": [
    "# Drop sponge region on the lateral boundaries\n",
    "hr_tz = read_building_height(HR_BUILDING_HEIGHT_PATH, \"Tz\", margin=40)"
   ]
  },
  {
   "cell_type": "markdown",
   "id": "94b76078-5a58-491e-a5b5-e2e0b7d99ca4",
   "metadata": {},
   "source": [
    "# Interpolate vertically"
   ]
  },
  {
   "cell_type": "code",
   "execution_count": null,
   "id": "d4428d21-0191-473f-8856-edddcdc55aeb",
   "metadata": {},
   "outputs": [],
   "source": [
    "for config_name in CONFIGS.keys():\n",
    "\n",
    "    inference_dir = DL_INFERENCE_DIR / EXPERIMENT_NAME / config_name\n",
    "    if not os.path.exists(inference_dir):\n",
    "        logger.info(f\"Inference dir does not exist. config = {config_name}\")\n",
    "        continue\n",
    "\n",
    "    if os.path.exists(f\"{DATA_DIR}/pred_2m_t_{config_name}.pickle\"):\n",
    "        logger.info(f\"Result already exists. config = {config_name}\")\n",
    "        continue\n",
    "\n",
    "    inference_paths = sorted(glob.glob(str(inference_dir / \"*.npy\")))\n",
    "    assert len(inference_paths) == 900\n",
    "\n",
    "    logger.info(f\"\\n{config_name} is being evaluated.\")\n",
    "\n",
    "    hr_dir_name = \"10\"\n",
    "    hr_dir = DL_DATA_DIR / hr_dir_name\n",
    "\n",
    "    pred_t = np.zeros(\n",
    "        shape=(len(inference_paths), len(HEIGHT_LEVELS)) + hr_tz.shape, dtype=np.float32\n",
    "    )\n",
    "    true_t = np.zeros_like(pred_t)\n",
    "\n",
    "    for idx, path in tqdm(enumerate(inference_paths), total=len(inference_paths)):\n",
    "        pred = np.transpose(np.load(path).squeeze(), axes=(0, 1, 3, 2))\n",
    "        # Axes = channel, height, east, north\n",
    "\n",
    "        name = os.path.basename(path)\n",
    "        name = name.replace(\"SR_x04\", \"HR\")\n",
    "        str_date = name.split(\"T\")[0]\n",
    "        hr_path = str(hr_dir / str_date / name)\n",
    "\n",
    "        # Restrict height under 32 x 5 meters\n",
    "        # 32 == len(HEIGHT_LEVELS)\n",
    "        y = np.transpose(np.load(hr_path)[:, :32], axes=(0, 1, 3, 2))\n",
    "        assert y.shape == pred.shape\n",
    "\n",
    "        pred_t[idx] = pred[0]  # first channel is temperature\n",
    "        true_t[idx] = y[0]\n",
    "\n",
    "    pred_2m_t = infer_2m_height_temperature(pred_t, hr_tz)\n",
    "    true_2m_t = infer_2m_height_temperature(true_t, hr_tz)\n",
    "\n",
    "    write_pickle(pred_2m_t, f\"{DATA_DIR}/pred_2m_t_{config_name}.pickle\")\n",
    "    write_pickle(true_2m_t, f\"{DATA_DIR}/true_2m_t_{config_name}.pickle\")\n",
    "\n",
    "    pred_2m_t = read_pickle(f\"{DATA_DIR}/pred_2m_t_{config_name}.pickle\")\n",
    "    true_2m_t = read_pickle(f\"{DATA_DIR}/true_2m_t_{config_name}.pickle\")\n",
    "\n",
    "    logger.info(f\"RMSE = {np.sqrt(np.nanmean((pred_2m_t - true_2m_t) ** 2))}\")\n",
    "    logger.info(f\"MAE = {np.nanmean(np.abs(pred_2m_t - true_2m_t))}\")"
   ]
  },
  {
   "cell_type": "code",
   "execution_count": null,
   "id": "2137c544-0fe4-498b-b596-11cc796d4853",
   "metadata": {},
   "outputs": [],
   "source": []
  }
 ],
 "metadata": {
  "kernelspec": {
   "display_name": "Python 3 (ipykernel)",
   "language": "python",
   "name": "python3"
  },
  "language_info": {
   "codemirror_mode": {
    "name": "ipython",
    "version": 3
   },
   "file_extension": ".py",
   "mimetype": "text/x-python",
   "name": "python",
   "nbconvert_exporter": "python",
   "pygments_lexer": "ipython3",
   "version": "3.8.12"
  }
 },
 "nbformat": 4,
 "nbformat_minor": 5
}
